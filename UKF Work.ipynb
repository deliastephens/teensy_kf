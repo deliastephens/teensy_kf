{
 "cells": [
  {
   "cell_type": "code",
   "execution_count": 1,
   "id": "556204be",
   "metadata": {},
   "outputs": [],
   "source": [
    "%gui qt\n",
    "import time, sys\n",
    "\n",
    "import numpy as np\n",
    "np.set_printoptions(linewidth=130)\n",
    "\n",
    "%matplotlib notebook\n",
    "import matplotlib.pyplot as plt\n",
    "plt.rcParams['figure.figsize'] = [8, 6]\n",
    "\n",
    "import ipywidgets as widgets\n",
    "from IPython.display import display\n",
    "\n",
    "from jupyterplot import ProgressPlot # see https://github.com/lvwerra/jupyterplot\n",
    "\n",
    "import pyqtgraph as pg\n",
    "from pyqtgraph.Qt import QtCore, QtGui\n",
    "\n",
    "from sympy import Matrix\n",
    "from scipy.spatial.transform import Rotation\n",
    "import scipy\n",
    "\n",
    "# imports from Python files (for brevity)\n",
    "from teensy_imu import IMU\n",
    "from ekf import EKF\n",
    "\n",
    "r2d = 180 / np.pi\n",
    "d2r = np.pi / 180"
   ]
  },
  {
   "cell_type": "code",
   "execution_count": 4,
   "id": "1959b90f",
   "metadata": {},
   "outputs": [],
   "source": [
    "class UKF():\n",
    "    def __init__(self, imu, dt, Qc, sa2, sm2, g, r):\n",
    "        self.g = g\n",
    "        self.r_m = r\n",
    "        self.imu = imu\n",
    "        self.dt = dt\n",
    "        self.Qc = Qc\n",
    "        \n",
    "        # Initializes P, Q, and R matrices\n",
    "        self.P = np.identity(7)\n",
    "        self.Q = np.identity(7)*Qc\n",
    "        R = np.hstack((np.identity(3)*sa2, np.zeros((3,3))))\n",
    "        self.R = np.vstack((R, np.hstack((np.zeros((3,3)),(np.identity(3)*sm2)))))\n",
    "        \n",
    "        self.W = np.identity(7)*0.1\n",
    "        \n",
    "        # Initial state guess\n",
    "        self.x = np.array([[1], [0], [0], [0], [0], [0], [0]])\n",
    "        self.x_hat = np.array([[1], [0], [0], [0], [0], [0], [0]])\n",
    "        \n",
    "        self.n = self.x_hat.shape[0]\n",
    "    \n",
    "    def calculate_sigma_points(self):\n",
    "        n = self.n\n",
    "        self.sp = np.zeros((n, 2*n+1))\n",
    "        self.sp[:,0] = self.x_hat[:,0]\n",
    "\n",
    "        for i in range(1, n+1):\n",
    "            self.sp[:,i] = self.x_hat[:,0] + scipy.linalg.sqrtm(n*self.Q)[:,i-1]\n",
    "            self.sp[:,n+1] = self.x_hat[:,0] - scipy.linalg.sqrtm(n*self.Q)[:,i-1]\n",
    "    \n",
    "    def omega(self, q):\n",
    "        \"\"\"\n",
    "        Rotation by an angular velocity\n",
    "        \"\"\"\n",
    "        wx, wy, wz = q[4:]\n",
    "        \n",
    "        theta = np.sqrt(wx**2 + wy**2 + wz**2) + 1e-12 # small disturbance to avoid 0 values\n",
    "        \n",
    "        return np.array([\n",
    "            [np.cos(theta/2)],\n",
    "            [np.sin(theta/2)*(wx/theta)],\n",
    "            [np.sin(theta/2)*(wy/theta)],\n",
    "            [np.sin(theta/2)*(wz/theta)],\n",
    "            \n",
    "        ])\n",
    "    \n",
    "    def vector_rotation_by_quaternion(self, v):\n",
    "        \n",
    "    \n",
    "    def f(self):\n",
    "        \"\"\"\n",
    "        Passes the sigma points through the function of equations 3-17 and 3-26\n",
    "        Write better comments if this shit actually works\n",
    "        \"\"\"\n",
    "        self.xk = np.zeros(np.shape(self.sp))\n",
    "        for i in range(1, np.shape(self.xk)[1]):\n",
    "            om = self.omega(self.sp[:,i])\n",
    "            self.xk[:4,i] = self.sp[:4,i] @ om\n",
    "            \n",
    "    def h_quaternion(self):\n",
    "        \"\"\"\n",
    "        Measurement Model\n",
    "        Takes in sigma points, generates the sigma point after being propagted through the\n",
    "        nonlinear measurement model\n",
    "        \"\"\"\n",
    "        y_sp = np.zeros(np.shape(self.sp))\n",
    "        display(Matrix(self.sp))\n",
    "        \n",
    "        for i in range(np.shape(self.sp)[1]):\n",
    "            attitude = self.sp[:,i]\n",
    "            invq = np.array([[attitude[0], -attitude[1], -attitude[2], -attitude[3]]]).T\n",
    "            display(Matrix(invq))\n",
    "            \n",
    "            # Accelerometer\n",
    "            \n",
    "            \n",
    "            \n",
    "    \n",
    "    def predict_with_quaternion_ang_vec_model(self):\n",
    "        \"\"\"\n",
    "        NOTE: NO LONGER JUST PREDICTION STEP\n",
    "        Prediction step of UKF with quaternion + angular velocity model, state space is\n",
    "        x = [q0 q1 q2 q3 omega_x omega_y omeg_z].T\n",
    "\n",
    "        Inputs:\n",
    "        u_t: commanded input to prediction step\n",
    "        dt: delta time between updates\n",
    "        xhat: mean\n",
    "        P: posteriori covariance\n",
    "        \"\"\"\n",
    "\n",
    "        # Compute sigma points for given mean ond posteriori covariance\n",
    "        self.calculate_sigma_points()\n",
    "        \n",
    "        # Propagate sigma points\n",
    "        uq = self.f()\n",
    "\n",
    "        # Using propagated sigma points to approximate new xkm and Qkm\n",
    "        w = 1/(2*self.n+1)\n",
    "        xkm = np.sum(w*self.xk,axis=1)\n",
    "        Qkm = np.zeros((self.n, self.n)) # estimated from sigma points\n",
    "        \n",
    "        for i in range(2*self.n+1):\n",
    "            Qkm += w*(self.xk[:,i]-xkm).reshape(self.n,1)@(self.xk[:,i]-xkm).reshape(1,self.n)\n",
    "        Qkm += self.W\n",
    "        self.Qkm = Qkm\n",
    "        \n",
    "    def update_with_quaternion_ang_vec_model(self, z):\n",
    "        self.h_quaternion()"
   ]
  },
  {
   "cell_type": "code",
   "execution_count": 5,
   "id": "bd60fbed",
   "metadata": {},
   "outputs": [
    {
     "name": "stdout",
     "output_type": "stream",
     "text": [
      "STARTING\n"
     ]
    },
    {
     "data": {
      "text/latex": [
       "$\\displaystyle \\left[\\begin{array}{ccccccccccccccc}1.0 & 1.26457513110646 & 1.0 & 1.0 & 1.0 & 1.0 & 1.0 & 1.0 & 1.0 & 0.0 & 0.0 & 0.0 & 0.0 & 0.0 & 0.0\\\\0.0 & 0.0 & 0.264575131106459 & 0.0 & 0.0 & 0.0 & 0.0 & 0.0 & 0.0 & 0.0 & 0.0 & 0.0 & 0.0 & 0.0 & 0.0\\\\0.0 & 0.0 & 0.0 & 0.264575131106459 & 0.0 & 0.0 & 0.0 & 0.0 & 0.0 & 0.0 & 0.0 & 0.0 & 0.0 & 0.0 & 0.0\\\\0.0 & 0.0 & 0.0 & 0.0 & 0.264575131106459 & 0.0 & 0.0 & 0.0 & 0.0 & 0.0 & 0.0 & 0.0 & 0.0 & 0.0 & 0.0\\\\0.0 & 0.0 & 0.0 & 0.0 & 0.0 & 0.264575131106459 & 0.0 & 0.0 & 0.0 & 0.0 & 0.0 & 0.0 & 0.0 & 0.0 & 0.0\\\\0.0 & 0.0 & 0.0 & 0.0 & 0.0 & 0.0 & 0.264575131106459 & 0.0 & 0.0 & 0.0 & 0.0 & 0.0 & 0.0 & 0.0 & 0.0\\\\0.0 & 0.0 & 0.0 & 0.0 & 0.0 & 0.0 & 0.0 & 0.264575131106459 & -0.264575131106459 & 0.0 & 0.0 & 0.0 & 0.0 & 0.0 & 0.0\\end{array}\\right]$"
      ],
      "text/plain": [
       "Matrix([\n",
       "[1.0, 1.26457513110646,               1.0,               1.0,               1.0,               1.0,               1.0,               1.0,                1.0, 0.0, 0.0, 0.0, 0.0, 0.0, 0.0],\n",
       "[0.0,              0.0, 0.264575131106459,               0.0,               0.0,               0.0,               0.0,               0.0,                0.0, 0.0, 0.0, 0.0, 0.0, 0.0, 0.0],\n",
       "[0.0,              0.0,               0.0, 0.264575131106459,               0.0,               0.0,               0.0,               0.0,                0.0, 0.0, 0.0, 0.0, 0.0, 0.0, 0.0],\n",
       "[0.0,              0.0,               0.0,               0.0, 0.264575131106459,               0.0,               0.0,               0.0,                0.0, 0.0, 0.0, 0.0, 0.0, 0.0, 0.0],\n",
       "[0.0,              0.0,               0.0,               0.0,               0.0, 0.264575131106459,               0.0,               0.0,                0.0, 0.0, 0.0, 0.0, 0.0, 0.0, 0.0],\n",
       "[0.0,              0.0,               0.0,               0.0,               0.0,               0.0, 0.264575131106459,               0.0,                0.0, 0.0, 0.0, 0.0, 0.0, 0.0, 0.0],\n",
       "[0.0,              0.0,               0.0,               0.0,               0.0,               0.0,               0.0, 0.264575131106459, -0.264575131106459, 0.0, 0.0, 0.0, 0.0, 0.0, 0.0]])"
      ]
     },
     "metadata": {},
     "output_type": "display_data"
    },
    {
     "data": {
      "text/latex": [
       "$\\displaystyle \\left[\\begin{matrix}1.0\\\\0.0\\\\0.0\\\\0.0\\end{matrix}\\right]$"
      ],
      "text/plain": [
       "Matrix([\n",
       "[1.0],\n",
       "[0.0],\n",
       "[0.0],\n",
       "[0.0]])"
      ]
     },
     "metadata": {},
     "output_type": "display_data"
    },
    {
     "data": {
      "text/latex": [
       "$\\displaystyle \\left[\\begin{matrix}1.26457513110646\\\\0.0\\\\0.0\\\\0.0\\end{matrix}\\right]$"
      ],
      "text/plain": [
       "Matrix([\n",
       "[1.26457513110646],\n",
       "[             0.0],\n",
       "[             0.0],\n",
       "[             0.0]])"
      ]
     },
     "metadata": {},
     "output_type": "display_data"
    },
    {
     "data": {
      "text/latex": [
       "$\\displaystyle \\left[\\begin{matrix}1.0\\\\-0.264575131106459\\\\0.0\\\\0.0\\end{matrix}\\right]$"
      ],
      "text/plain": [
       "Matrix([\n",
       "[               1.0],\n",
       "[-0.264575131106459],\n",
       "[               0.0],\n",
       "[               0.0]])"
      ]
     },
     "metadata": {},
     "output_type": "display_data"
    },
    {
     "data": {
      "text/latex": [
       "$\\displaystyle \\left[\\begin{matrix}1.0\\\\0.0\\\\-0.264575131106459\\\\0.0\\end{matrix}\\right]$"
      ],
      "text/plain": [
       "Matrix([\n",
       "[               1.0],\n",
       "[               0.0],\n",
       "[-0.264575131106459],\n",
       "[               0.0]])"
      ]
     },
     "metadata": {},
     "output_type": "display_data"
    },
    {
     "data": {
      "text/latex": [
       "$\\displaystyle \\left[\\begin{matrix}1.0\\\\0.0\\\\0.0\\\\-0.264575131106459\\end{matrix}\\right]$"
      ],
      "text/plain": [
       "Matrix([\n",
       "[               1.0],\n",
       "[               0.0],\n",
       "[               0.0],\n",
       "[-0.264575131106459]])"
      ]
     },
     "metadata": {},
     "output_type": "display_data"
    },
    {
     "data": {
      "text/latex": [
       "$\\displaystyle \\left[\\begin{matrix}1.0\\\\0.0\\\\0.0\\\\0.0\\end{matrix}\\right]$"
      ],
      "text/plain": [
       "Matrix([\n",
       "[1.0],\n",
       "[0.0],\n",
       "[0.0],\n",
       "[0.0]])"
      ]
     },
     "metadata": {},
     "output_type": "display_data"
    },
    {
     "data": {
      "text/latex": [
       "$\\displaystyle \\left[\\begin{matrix}1.0\\\\0.0\\\\0.0\\\\0.0\\end{matrix}\\right]$"
      ],
      "text/plain": [
       "Matrix([\n",
       "[1.0],\n",
       "[0.0],\n",
       "[0.0],\n",
       "[0.0]])"
      ]
     },
     "metadata": {},
     "output_type": "display_data"
    },
    {
     "data": {
      "text/latex": [
       "$\\displaystyle \\left[\\begin{matrix}1.0\\\\0.0\\\\0.0\\\\0.0\\end{matrix}\\right]$"
      ],
      "text/plain": [
       "Matrix([\n",
       "[1.0],\n",
       "[0.0],\n",
       "[0.0],\n",
       "[0.0]])"
      ]
     },
     "metadata": {},
     "output_type": "display_data"
    },
    {
     "data": {
      "text/latex": [
       "$\\displaystyle \\left[\\begin{matrix}1.0\\\\0.0\\\\0.0\\\\0.0\\end{matrix}\\right]$"
      ],
      "text/plain": [
       "Matrix([\n",
       "[1.0],\n",
       "[0.0],\n",
       "[0.0],\n",
       "[0.0]])"
      ]
     },
     "metadata": {},
     "output_type": "display_data"
    },
    {
     "data": {
      "text/latex": [
       "$\\displaystyle \\left[\\begin{matrix}0.0\\\\0.0\\\\0.0\\\\0.0\\end{matrix}\\right]$"
      ],
      "text/plain": [
       "Matrix([\n",
       "[0.0],\n",
       "[0.0],\n",
       "[0.0],\n",
       "[0.0]])"
      ]
     },
     "metadata": {},
     "output_type": "display_data"
    },
    {
     "data": {
      "text/latex": [
       "$\\displaystyle \\left[\\begin{matrix}0.0\\\\0.0\\\\0.0\\\\0.0\\end{matrix}\\right]$"
      ],
      "text/plain": [
       "Matrix([\n",
       "[0.0],\n",
       "[0.0],\n",
       "[0.0],\n",
       "[0.0]])"
      ]
     },
     "metadata": {},
     "output_type": "display_data"
    },
    {
     "data": {
      "text/latex": [
       "$\\displaystyle \\left[\\begin{matrix}0.0\\\\0.0\\\\0.0\\\\0.0\\end{matrix}\\right]$"
      ],
      "text/plain": [
       "Matrix([\n",
       "[0.0],\n",
       "[0.0],\n",
       "[0.0],\n",
       "[0.0]])"
      ]
     },
     "metadata": {},
     "output_type": "display_data"
    },
    {
     "data": {
      "text/latex": [
       "$\\displaystyle \\left[\\begin{matrix}0.0\\\\0.0\\\\0.0\\\\0.0\\end{matrix}\\right]$"
      ],
      "text/plain": [
       "Matrix([\n",
       "[0.0],\n",
       "[0.0],\n",
       "[0.0],\n",
       "[0.0]])"
      ]
     },
     "metadata": {},
     "output_type": "display_data"
    },
    {
     "data": {
      "text/latex": [
       "$\\displaystyle \\left[\\begin{matrix}0.0\\\\0.0\\\\0.0\\\\0.0\\end{matrix}\\right]$"
      ],
      "text/plain": [
       "Matrix([\n",
       "[0.0],\n",
       "[0.0],\n",
       "[0.0],\n",
       "[0.0]])"
      ]
     },
     "metadata": {},
     "output_type": "display_data"
    },
    {
     "data": {
      "text/latex": [
       "$\\displaystyle \\left[\\begin{matrix}0.0\\\\0.0\\\\0.0\\\\0.0\\end{matrix}\\right]$"
      ],
      "text/plain": [
       "Matrix([\n",
       "[0.0],\n",
       "[0.0],\n",
       "[0.0],\n",
       "[0.0]])"
      ]
     },
     "metadata": {},
     "output_type": "display_data"
    },
    {
     "name": "stdout",
     "output_type": "stream",
     "text": [
      "STARTING\n"
     ]
    },
    {
     "data": {
      "text/latex": [
       "$\\displaystyle \\left[\\begin{array}{ccccccccccccccc}1.0 & 1.26457513110646 & 1.0 & 1.0 & 1.0 & 1.0 & 1.0 & 1.0 & 1.0 & 0.0 & 0.0 & 0.0 & 0.0 & 0.0 & 0.0\\\\0.0 & 0.0 & 0.264575131106459 & 0.0 & 0.0 & 0.0 & 0.0 & 0.0 & 0.0 & 0.0 & 0.0 & 0.0 & 0.0 & 0.0 & 0.0\\\\0.0 & 0.0 & 0.0 & 0.264575131106459 & 0.0 & 0.0 & 0.0 & 0.0 & 0.0 & 0.0 & 0.0 & 0.0 & 0.0 & 0.0 & 0.0\\\\0.0 & 0.0 & 0.0 & 0.0 & 0.264575131106459 & 0.0 & 0.0 & 0.0 & 0.0 & 0.0 & 0.0 & 0.0 & 0.0 & 0.0 & 0.0\\\\0.0 & 0.0 & 0.0 & 0.0 & 0.0 & 0.264575131106459 & 0.0 & 0.0 & 0.0 & 0.0 & 0.0 & 0.0 & 0.0 & 0.0 & 0.0\\\\0.0 & 0.0 & 0.0 & 0.0 & 0.0 & 0.0 & 0.264575131106459 & 0.0 & 0.0 & 0.0 & 0.0 & 0.0 & 0.0 & 0.0 & 0.0\\\\0.0 & 0.0 & 0.0 & 0.0 & 0.0 & 0.0 & 0.0 & 0.264575131106459 & -0.264575131106459 & 0.0 & 0.0 & 0.0 & 0.0 & 0.0 & 0.0\\end{array}\\right]$"
      ],
      "text/plain": [
       "Matrix([\n",
       "[1.0, 1.26457513110646,               1.0,               1.0,               1.0,               1.0,               1.0,               1.0,                1.0, 0.0, 0.0, 0.0, 0.0, 0.0, 0.0],\n",
       "[0.0,              0.0, 0.264575131106459,               0.0,               0.0,               0.0,               0.0,               0.0,                0.0, 0.0, 0.0, 0.0, 0.0, 0.0, 0.0],\n",
       "[0.0,              0.0,               0.0, 0.264575131106459,               0.0,               0.0,               0.0,               0.0,                0.0, 0.0, 0.0, 0.0, 0.0, 0.0, 0.0],\n",
       "[0.0,              0.0,               0.0,               0.0, 0.264575131106459,               0.0,               0.0,               0.0,                0.0, 0.0, 0.0, 0.0, 0.0, 0.0, 0.0],\n",
       "[0.0,              0.0,               0.0,               0.0,               0.0, 0.264575131106459,               0.0,               0.0,                0.0, 0.0, 0.0, 0.0, 0.0, 0.0, 0.0],\n",
       "[0.0,              0.0,               0.0,               0.0,               0.0,               0.0, 0.264575131106459,               0.0,                0.0, 0.0, 0.0, 0.0, 0.0, 0.0, 0.0],\n",
       "[0.0,              0.0,               0.0,               0.0,               0.0,               0.0,               0.0, 0.264575131106459, -0.264575131106459, 0.0, 0.0, 0.0, 0.0, 0.0, 0.0]])"
      ]
     },
     "metadata": {},
     "output_type": "display_data"
    },
    {
     "data": {
      "text/latex": [
       "$\\displaystyle \\left[\\begin{matrix}1.0\\\\0.0\\\\0.0\\\\0.0\\end{matrix}\\right]$"
      ],
      "text/plain": [
       "Matrix([\n",
       "[1.0],\n",
       "[0.0],\n",
       "[0.0],\n",
       "[0.0]])"
      ]
     },
     "metadata": {},
     "output_type": "display_data"
    },
    {
     "data": {
      "text/latex": [
       "$\\displaystyle \\left[\\begin{matrix}1.26457513110646\\\\0.0\\\\0.0\\\\0.0\\end{matrix}\\right]$"
      ],
      "text/plain": [
       "Matrix([\n",
       "[1.26457513110646],\n",
       "[             0.0],\n",
       "[             0.0],\n",
       "[             0.0]])"
      ]
     },
     "metadata": {},
     "output_type": "display_data"
    },
    {
     "data": {
      "text/latex": [
       "$\\displaystyle \\left[\\begin{matrix}1.0\\\\-0.264575131106459\\\\0.0\\\\0.0\\end{matrix}\\right]$"
      ],
      "text/plain": [
       "Matrix([\n",
       "[               1.0],\n",
       "[-0.264575131106459],\n",
       "[               0.0],\n",
       "[               0.0]])"
      ]
     },
     "metadata": {},
     "output_type": "display_data"
    },
    {
     "data": {
      "text/latex": [
       "$\\displaystyle \\left[\\begin{matrix}1.0\\\\0.0\\\\-0.264575131106459\\\\0.0\\end{matrix}\\right]$"
      ],
      "text/plain": [
       "Matrix([\n",
       "[               1.0],\n",
       "[               0.0],\n",
       "[-0.264575131106459],\n",
       "[               0.0]])"
      ]
     },
     "metadata": {},
     "output_type": "display_data"
    },
    {
     "data": {
      "text/latex": [
       "$\\displaystyle \\left[\\begin{matrix}1.0\\\\0.0\\\\0.0\\\\-0.264575131106459\\end{matrix}\\right]$"
      ],
      "text/plain": [
       "Matrix([\n",
       "[               1.0],\n",
       "[               0.0],\n",
       "[               0.0],\n",
       "[-0.264575131106459]])"
      ]
     },
     "metadata": {},
     "output_type": "display_data"
    },
    {
     "data": {
      "text/latex": [
       "$\\displaystyle \\left[\\begin{matrix}1.0\\\\0.0\\\\0.0\\\\0.0\\end{matrix}\\right]$"
      ],
      "text/plain": [
       "Matrix([\n",
       "[1.0],\n",
       "[0.0],\n",
       "[0.0],\n",
       "[0.0]])"
      ]
     },
     "metadata": {},
     "output_type": "display_data"
    },
    {
     "data": {
      "text/latex": [
       "$\\displaystyle \\left[\\begin{matrix}1.0\\\\0.0\\\\0.0\\\\0.0\\end{matrix}\\right]$"
      ],
      "text/plain": [
       "Matrix([\n",
       "[1.0],\n",
       "[0.0],\n",
       "[0.0],\n",
       "[0.0]])"
      ]
     },
     "metadata": {},
     "output_type": "display_data"
    },
    {
     "data": {
      "text/latex": [
       "$\\displaystyle \\left[\\begin{matrix}1.0\\\\0.0\\\\0.0\\\\0.0\\end{matrix}\\right]$"
      ],
      "text/plain": [
       "Matrix([\n",
       "[1.0],\n",
       "[0.0],\n",
       "[0.0],\n",
       "[0.0]])"
      ]
     },
     "metadata": {},
     "output_type": "display_data"
    },
    {
     "data": {
      "text/latex": [
       "$\\displaystyle \\left[\\begin{matrix}1.0\\\\0.0\\\\0.0\\\\0.0\\end{matrix}\\right]$"
      ],
      "text/plain": [
       "Matrix([\n",
       "[1.0],\n",
       "[0.0],\n",
       "[0.0],\n",
       "[0.0]])"
      ]
     },
     "metadata": {},
     "output_type": "display_data"
    },
    {
     "data": {
      "text/latex": [
       "$\\displaystyle \\left[\\begin{matrix}0.0\\\\0.0\\\\0.0\\\\0.0\\end{matrix}\\right]$"
      ],
      "text/plain": [
       "Matrix([\n",
       "[0.0],\n",
       "[0.0],\n",
       "[0.0],\n",
       "[0.0]])"
      ]
     },
     "metadata": {},
     "output_type": "display_data"
    },
    {
     "data": {
      "text/latex": [
       "$\\displaystyle \\left[\\begin{matrix}0.0\\\\0.0\\\\0.0\\\\0.0\\end{matrix}\\right]$"
      ],
      "text/plain": [
       "Matrix([\n",
       "[0.0],\n",
       "[0.0],\n",
       "[0.0],\n",
       "[0.0]])"
      ]
     },
     "metadata": {},
     "output_type": "display_data"
    },
    {
     "data": {
      "text/latex": [
       "$\\displaystyle \\left[\\begin{matrix}0.0\\\\0.0\\\\0.0\\\\0.0\\end{matrix}\\right]$"
      ],
      "text/plain": [
       "Matrix([\n",
       "[0.0],\n",
       "[0.0],\n",
       "[0.0],\n",
       "[0.0]])"
      ]
     },
     "metadata": {},
     "output_type": "display_data"
    },
    {
     "data": {
      "text/latex": [
       "$\\displaystyle \\left[\\begin{matrix}0.0\\\\0.0\\\\0.0\\\\0.0\\end{matrix}\\right]$"
      ],
      "text/plain": [
       "Matrix([\n",
       "[0.0],\n",
       "[0.0],\n",
       "[0.0],\n",
       "[0.0]])"
      ]
     },
     "metadata": {},
     "output_type": "display_data"
    },
    {
     "data": {
      "text/latex": [
       "$\\displaystyle \\left[\\begin{matrix}0.0\\\\0.0\\\\0.0\\\\0.0\\end{matrix}\\right]$"
      ],
      "text/plain": [
       "Matrix([\n",
       "[0.0],\n",
       "[0.0],\n",
       "[0.0],\n",
       "[0.0]])"
      ]
     },
     "metadata": {},
     "output_type": "display_data"
    },
    {
     "data": {
      "text/latex": [
       "$\\displaystyle \\left[\\begin{matrix}0.0\\\\0.0\\\\0.0\\\\0.0\\end{matrix}\\right]$"
      ],
      "text/plain": [
       "Matrix([\n",
       "[0.0],\n",
       "[0.0],\n",
       "[0.0],\n",
       "[0.0]])"
      ]
     },
     "metadata": {},
     "output_type": "display_data"
    }
   ],
   "source": [
    "g = np.array([[0, 0, 1]]).T # north east up\n",
    "theta = 66*r2d # approximate magnetic inclination\n",
    "r_m = np.array([[0, np.cos(theta), -np.sin(theta)]]).T\n",
    "\n",
    "# sampling time\n",
    "Fs = 20\n",
    "dt = 1./200\n",
    "\n",
    "# quaternion [q0 q1 q2 q3 omega_x omega_y omega_z].T\n",
    "# omegas are angular velocity\n",
    "x = np.array([[1], [0], [0], [0], [0], [0], [0]])\n",
    "\n",
    "Qc = 0.01\n",
    "sa2 = 0.5**2 #sigma_a^2\n",
    "sm2 = 0.8**2 #sigma_m^2\n",
    "\n",
    "# set up the live plotting\n",
    "# plot = ProgressPlot(line_names=['roll', 'pitch', 'yaw'], y_lim=[-90, 90])\n",
    "\n",
    "# create an IMU object to access data in real-time\n",
    "imu = IMU(Fs)\n",
    "time.sleep(0.1)\n",
    "\n",
    "# create an EKF\n",
    "ukf = UKF(imu, dt, Qc, sa2, sm2, g, r_m)\n",
    "\n",
    "for i in range(2):\n",
    "    print(\"STARTING\")\n",
    "    # Get normalized measurements\n",
    "    Ax, Ay, Az = imu.get_acc()\n",
    "    p, q, r = imu.get_gyr()\n",
    "    mx, my, mz = imu.get_mag()\n",
    "\n",
    "    # Calculate roll, pitch, and yaw\n",
    "    # Predict step with UKF's quaternion angle vector model\n",
    "    ukf.predict_with_quaternion_ang_vec_model()\n",
    "    \n",
    "    \n",
    "    # Concatenate gyroscope, accelerometer, and magnetometer for measurement\n",
    "    z = np.array([[Ax, Ay, Az], [p, q, r], [mx, my, mz]])\n",
    "    \n",
    "    # Update the step UKF with measurements\n",
    "    ukf.update_with_quaternion_ang_vec_model(z)\n",
    "    "
   ]
  },
  {
   "cell_type": "code",
   "execution_count": null,
   "id": "51bf5f42",
   "metadata": {},
   "outputs": [],
   "source": []
  }
 ],
 "metadata": {
  "kernelspec": {
   "display_name": "Python 3",
   "language": "python",
   "name": "python3"
  },
  "language_info": {
   "codemirror_mode": {
    "name": "ipython",
    "version": 3
   },
   "file_extension": ".py",
   "mimetype": "text/x-python",
   "name": "python",
   "nbconvert_exporter": "python",
   "pygments_lexer": "ipython3",
   "version": "3.9.0"
  }
 },
 "nbformat": 4,
 "nbformat_minor": 5
}
